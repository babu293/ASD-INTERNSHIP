{
 "cells": [
  {
   "cell_type": "markdown",
   "id": "912d85fd",
   "metadata": {},
   "source": [
    "# INTERN @ ACADEMY OF SKILL DEVELOPMENT\n",
    "## NAME   : BABU VIJAYA RAGHAVAN M\n",
    "## DOMAIN  : AI MACHINE LEARNING USING PYTHON\n",
    "## BATCH    : SVT-22-MLP-B4-23RDJULY\n",
    "## PROJECT TOPIC : Stock Price Prediction"
   ]
  },
  {
   "cell_type": "markdown",
   "id": "7576b64c",
   "metadata": {},
   "source": [
    "# Step 1 -  Importing Libraries"
   ]
  },
  {
   "cell_type": "code",
   "execution_count": 33,
   "id": "45bd5e2e",
   "metadata": {},
   "outputs": [],
   "source": [
    "import pandas as pd\n",
    "import numpy as np\n",
    "import tensorflow\n",
    "import matplotlib. pyplot as plt\n",
    "import matplotlib\n",
    "from sklearn.preprocessing import MinMaxScaler\n",
    "from keras.layers import LSTM, Dense, Dropout\n",
    "from sklearn.model_selection import TimeSeriesSplit\n",
    "from sklearn.metrics import mean_squared_error, r2_score\n",
    "import matplotlib. dates as mandates\n",
    "from sklearn.preprocessing import MinMaxScaler\n",
    "from sklearn import linear_model\n",
    "from keras.models import Sequential\n",
    "from keras.layers import Dense\n",
    "import keras.backend as K\n",
    "from keras.callbacks import EarlyStopping\n",
    "from tensorflow.keras.optimizers import Adam\n",
    "from keras.models import load_model\n",
    "from keras.layers import LSTM\n",
    "from keras.utils.vis_utils import plot_model"
   ]
  },
  {
   "cell_type": "markdown",
   "id": "a0aa4fb8",
   "metadata": {},
   "source": [
    "# Step 2 - Getting Visualising the Data"
   ]
  },
  {
   "cell_type": "code",
   "execution_count": 34,
   "id": "2e7fa6b4",
   "metadata": {},
   "outputs": [
    {
     "data": {
      "text/html": [
       "<div>\n",
       "<style scoped>\n",
       "    .dataframe tbody tr th:only-of-type {\n",
       "        vertical-align: middle;\n",
       "    }\n",
       "\n",
       "    .dataframe tbody tr th {\n",
       "        vertical-align: top;\n",
       "    }\n",
       "\n",
       "    .dataframe thead th {\n",
       "        text-align: right;\n",
       "    }\n",
       "</style>\n",
       "<table border=\"1\" class=\"dataframe\">\n",
       "  <thead>\n",
       "    <tr style=\"text-align: right;\">\n",
       "      <th></th>\n",
       "      <th>Open</th>\n",
       "      <th>High</th>\n",
       "      <th>Low</th>\n",
       "      <th>Close</th>\n",
       "      <th>Adj Close</th>\n",
       "      <th>Volume</th>\n",
       "    </tr>\n",
       "    <tr>\n",
       "      <th>Date</th>\n",
       "      <th></th>\n",
       "      <th></th>\n",
       "      <th></th>\n",
       "      <th></th>\n",
       "      <th></th>\n",
       "      <th></th>\n",
       "    </tr>\n",
       "  </thead>\n",
       "  <tbody>\n",
       "    <tr>\n",
       "      <th>1986-03-13</th>\n",
       "      <td>0.088542</td>\n",
       "      <td>0.101563</td>\n",
       "      <td>0.088542</td>\n",
       "      <td>0.097222</td>\n",
       "      <td>0.061434</td>\n",
       "      <td>1031788800</td>\n",
       "    </tr>\n",
       "    <tr>\n",
       "      <th>1986-03-14</th>\n",
       "      <td>0.097222</td>\n",
       "      <td>0.102431</td>\n",
       "      <td>0.097222</td>\n",
       "      <td>0.100694</td>\n",
       "      <td>0.063628</td>\n",
       "      <td>308160000</td>\n",
       "    </tr>\n",
       "    <tr>\n",
       "      <th>1986-03-17</th>\n",
       "      <td>0.100694</td>\n",
       "      <td>0.103299</td>\n",
       "      <td>0.100694</td>\n",
       "      <td>0.102431</td>\n",
       "      <td>0.064725</td>\n",
       "      <td>133171200</td>\n",
       "    </tr>\n",
       "    <tr>\n",
       "      <th>1986-03-18</th>\n",
       "      <td>0.102431</td>\n",
       "      <td>0.103299</td>\n",
       "      <td>0.098958</td>\n",
       "      <td>0.099826</td>\n",
       "      <td>0.063079</td>\n",
       "      <td>67766400</td>\n",
       "    </tr>\n",
       "    <tr>\n",
       "      <th>1986-03-19</th>\n",
       "      <td>0.099826</td>\n",
       "      <td>0.100694</td>\n",
       "      <td>0.097222</td>\n",
       "      <td>0.098090</td>\n",
       "      <td>0.061982</td>\n",
       "      <td>47894400</td>\n",
       "    </tr>\n",
       "  </tbody>\n",
       "</table>\n",
       "</div>"
      ],
      "text/plain": [
       "                Open      High       Low     Close  Adj Close      Volume\n",
       "Date                                                                     \n",
       "1986-03-13  0.088542  0.101563  0.088542  0.097222   0.061434  1031788800\n",
       "1986-03-14  0.097222  0.102431  0.097222  0.100694   0.063628   308160000\n",
       "1986-03-17  0.100694  0.103299  0.100694  0.102431   0.064725   133171200\n",
       "1986-03-18  0.102431  0.103299  0.098958  0.099826   0.063079    67766400\n",
       "1986-03-19  0.099826  0.100694  0.097222  0.098090   0.061982    47894400"
      ]
     },
     "execution_count": 34,
     "metadata": {},
     "output_type": "execute_result"
    }
   ],
   "source": [
    "df = pd.read_csv(\"MSFT.csv\",na_values=['null'],index_col='Date',parse_dates=True,infer_datetime_format=True)\n",
    "df.head()"
   ]
  },
  {
   "cell_type": "markdown",
   "id": "ab1da829",
   "metadata": {},
   "source": [
    "# Step 3 – Print the DataFrame Shape and Check for Null Values."
   ]
  },
  {
   "cell_type": "code",
   "execution_count": 37,
   "id": "dabfd1ab",
   "metadata": {},
   "outputs": [
    {
     "name": "stdout",
     "output_type": "stream",
     "text": [
      "Dataframe Shape:  (9083, 6)\n",
      "Null Value Present:  False\n"
     ]
    }
   ],
   "source": [
    "print(\"Dataframe Shape: \", df. shape)\n",
    "print(\"Null Value Present: \", df.isnull().values.any())"
   ]
  },
  {
   "cell_type": "markdown",
   "id": "71e340fa",
   "metadata": {},
   "source": [
    "# Step 4 – Plotting the True Adjusted Close Value"
   ]
  },
  {
   "cell_type": "code",
   "execution_count": 39,
   "id": "01b8bf7c",
   "metadata": {},
   "outputs": [
    {
     "data": {
      "text/plain": [
       "<AxesSubplot:xlabel='Date'>"
      ]
     },
     "execution_count": 39,
     "metadata": {},
     "output_type": "execute_result"
    },
    {
     "data": {
      "image/png": "[encoded data removed]",
      "text/plain": [
       "<Figure size 432x288 with 1 Axes>"
      ]
     },
     "metadata": {
      "needs_background": "light"
     },
     "output_type": "display_data"
    }
   ],
   "source": [
    "df['Adj Close'].plot()"
   ]
  },
  {
   "cell_type": "markdown",
   "id": "4f4871ff",
   "metadata": {},
   "source": [
    "# Step 5 – Setting the Target Variable and Selecting the Features"
   ]
  },
  {
   "cell_type": "code",
   "execution_count": 40,
   "id": "2b9a4438",
   "metadata": {},
   "outputs": [],
   "source": [
    "#Set Target Variable\n",
    "output_var = PD.DataFrame(df['Adj Close'])\n",
    "#Selecting the Features\n",
    "features = ['Open', 'High', 'Low', 'Volume']"
   ]
  },
  {
   "cell_type": "markdown",
   "id": "8cbc5277",
   "metadata": {},
   "source": [
    "# Step 6 – Scaling"
   ]
  },
  {
   "cell_type": "code",
   "execution_count": 41,
   "id": "a65e544b",
   "metadata": {},
   "outputs": [
    {
     "data": {
      "text/html": [
       "<div>\n",
       "<style scoped>\n",
       "    .dataframe tbody tr th:only-of-type {\n",
       "        vertical-align: middle;\n",
       "    }\n",
       "\n",
       "    .dataframe tbody tr th {\n",
       "        vertical-align: top;\n",
       "    }\n",
       "\n",
       "    .dataframe thead th {\n",
       "        text-align: right;\n",
       "    }\n",
       "</style>\n",
       "<table border=\"1\" class=\"dataframe\">\n",
       "  <thead>\n",
       "    <tr style=\"text-align: right;\">\n",
       "      <th></th>\n",
       "      <th>Open</th>\n",
       "      <th>High</th>\n",
       "      <th>Low</th>\n",
       "      <th>Volume</th>\n",
       "    </tr>\n",
       "    <tr>\n",
       "      <th>Date</th>\n",
       "      <th></th>\n",
       "      <th></th>\n",
       "      <th></th>\n",
       "      <th></th>\n",
       "    </tr>\n",
       "  </thead>\n",
       "  <tbody>\n",
       "    <tr>\n",
       "      <th>1986-03-13</th>\n",
       "      <td>0.000000</td>\n",
       "      <td>0.000027</td>\n",
       "      <td>0.000000</td>\n",
       "      <td>1.000000</td>\n",
       "    </tr>\n",
       "    <tr>\n",
       "      <th>1986-03-14</th>\n",
       "      <td>0.000025</td>\n",
       "      <td>0.000030</td>\n",
       "      <td>0.000025</td>\n",
       "      <td>0.297096</td>\n",
       "    </tr>\n",
       "    <tr>\n",
       "      <th>1986-03-17</th>\n",
       "      <td>0.000035</td>\n",
       "      <td>0.000032</td>\n",
       "      <td>0.000036</td>\n",
       "      <td>0.127119</td>\n",
       "    </tr>\n",
       "    <tr>\n",
       "      <th>1986-03-18</th>\n",
       "      <td>0.000040</td>\n",
       "      <td>0.000032</td>\n",
       "      <td>0.000030</td>\n",
       "      <td>0.063588</td>\n",
       "    </tr>\n",
       "    <tr>\n",
       "      <th>1986-03-19</th>\n",
       "      <td>0.000033</td>\n",
       "      <td>0.000025</td>\n",
       "      <td>0.000025</td>\n",
       "      <td>0.044285</td>\n",
       "    </tr>\n",
       "  </tbody>\n",
       "</table>\n",
       "</div>"
      ],
      "text/plain": [
       "                Open      High       Low    Volume\n",
       "Date                                              \n",
       "1986-03-13  0.000000  0.000027  0.000000  1.000000\n",
       "1986-03-14  0.000025  0.000030  0.000025  0.297096\n",
       "1986-03-17  0.000035  0.000032  0.000036  0.127119\n",
       "1986-03-18  0.000040  0.000032  0.000030  0.063588\n",
       "1986-03-19  0.000033  0.000025  0.000025  0.044285"
      ]
     },
     "execution_count": 41,
     "metadata": {},
     "output_type": "execute_result"
    }
   ],
   "source": [
    "scaler = MinMaxScaler()\n",
    "feature_transform = scaler.fit_transform(df[features])\n",
    "feature_transform= pd.DataFrame(columns=features, data=feature_transform, index=df.index)\n",
    "feature_transform.head()"
   ]
  },
  {
   "cell_type": "markdown",
   "id": "f8590021",
   "metadata": {},
   "source": [
    "# Step 7 – Splitting to a Training Set and Test Set."
   ]
  },
  {
   "cell_type": "code",
   "execution_count": 42,
   "id": "48faa38b",
   "metadata": {},
   "outputs": [],
   "source": [
    "#Splitting to Training set and Test set\n",
    "timesplit= TimeSeriesSplit(n_splits=10)\n",
    "for train_index, test_index in timesplit.split(feature_transform):\n",
    "    X_train, X_test = feature_transform[:len(train_index)], feature_transform[len(train_index): (len(train_index)+len(test_index))]\n",
    "    y_train, y_test = output_var[:len(train_index)].values.ravel(), output_var[len(train_index): (len(train_index)+len(test_index))].values.ravel()"
   ]
  },
  {
   "cell_type": "markdown",
   "id": "3e3aafdb",
   "metadata": {},
   "source": [
    "# Step 8 – Processing the Data For LSTM"
   ]
  },
  {
   "cell_type": "code",
   "execution_count": 43,
   "id": "4b1d6b61",
   "metadata": {},
   "outputs": [],
   "source": [
    "#Process the data for LSTM\n",
    "trainX =np.array(X_train)\n",
    "\n",
    "testX =np.array(X_test)\n",
    "\n",
    "X_train = trainX.reshape(X_train.shape[0], 1, X_train.shape[1])\n",
    "\n",
    "X_test = testX.reshape(X_test.shape[0], 1, X_test.shape[1])"
   ]
  },
  {
   "cell_type": "markdown",
   "id": "86b73296",
   "metadata": {},
   "source": [
    "# Step 9 – Building the LSTM Model"
   ]
  },
  {
   "cell_type": "code",
   "execution_count": 55,
   "id": "06a763e1",
   "metadata": {},
   "outputs": [],
   "source": [
    "#Building the LSTM Model\n",
    "lstm = Sequential()\n",
    "lstm.add(LSTM(32, input_shape=(1, trainX.shape[1]), activation='relu', return_sequences=False))\n",
    "lstm.add(Dense(1))\n",
    "lstm.add(Dense(1))\n",
    "lstm.compile(loss='mean_squared_error', optimizer='adam')"
   ]
  },
  {
   "cell_type": "markdown",
   "id": "95e3372e",
   "metadata": {},
   "source": [
    "# Step 10 – Training the Model"
   ]
  },
  {
   "cell_type": "code",
   "execution_count": 56,
   "id": "15795426",
   "metadata": {},
   "outputs": [
    {
     "name": "stdout",
     "output_type": "stream",
     "text": [
      "Epoch 1/100\n",
      "1033/1033 [==============================] - 4s 2ms/step - loss: 22.8650\n",
      "Epoch 2/100\n",
      "1033/1033 [==============================] - 2s 2ms/step - loss: 162.8909\n",
      "Epoch 3/100\n",
      "1033/1033 [==============================] - 2s 2ms/step - loss: 70.1808\n",
      "Epoch 4/100\n",
      "1033/1033 [==============================] - 2s 2ms/step - loss: 17.4333\n",
      "Epoch 5/100\n",
      "1033/1033 [==============================] - 2s 2ms/step - loss: 3.3237\n",
      "Epoch 6/100\n",
      "1033/1033 [==============================] - 2s 2ms/step - loss: 1.2537\n",
      "Epoch 7/100\n",
      "1033/1033 [==============================] - 2s 2ms/step - loss: 0.8036\n",
      "Epoch 8/100\n",
      "1033/1033 [==============================] - 2s 2ms/step - loss: 0.6205\n",
      "Epoch 9/100\n",
      "1033/1033 [==============================] - 2s 2ms/step - loss: 0.5408\n",
      "Epoch 10/100\n",
      "1033/1033 [==============================] - 2s 2ms/step - loss: 0.5120\n",
      "Epoch 11/100\n",
      "1033/1033 [==============================] - 2s 2ms/step - loss: 0.5040\n",
      "Epoch 12/100\n",
      "1033/1033 [==============================] - 2s 2ms/step - loss: 0.5027\n",
      "Epoch 13/100\n",
      "1033/1033 [==============================] - 2s 2ms/step - loss: 0.5033\n",
      "Epoch 14/100\n",
      "1033/1033 [==============================] - 2s 2ms/step - loss: 0.5044\n",
      "Epoch 15/100\n",
      "1033/1033 [==============================] - 2s 2ms/step - loss: 0.5056\n",
      "Epoch 16/100\n",
      "1033/1033 [==============================] - 2s 2ms/step - loss: 0.5068\n",
      "Epoch 17/100\n",
      "1033/1033 [==============================] - 2s 2ms/step - loss: 0.5080\n",
      "Epoch 18/100\n",
      "1033/1033 [==============================] - 2s 2ms/step - loss: 0.5092\n",
      "Epoch 19/100\n",
      "1033/1033 [==============================] - 2s 2ms/step - loss: 0.5104\n",
      "Epoch 20/100\n",
      "1033/1033 [==============================] - 2s 2ms/step - loss: 0.5116\n",
      "Epoch 21/100\n",
      "1033/1033 [==============================] - 2s 2ms/step - loss: 0.5128\n",
      "Epoch 22/100\n",
      "1033/1033 [==============================] - 2s 2ms/step - loss: 0.5140\n",
      "Epoch 23/100\n",
      "1033/1033 [==============================] - 2s 2ms/step - loss: 0.5153\n",
      "Epoch 24/100\n",
      "1033/1033 [==============================] - 2s 2ms/step - loss: 0.5165\n",
      "Epoch 25/100\n",
      "1033/1033 [==============================] - 2s 2ms/step - loss: 0.5178\n",
      "Epoch 26/100\n",
      "1033/1033 [==============================] - 2s 2ms/step - loss: 0.5192\n",
      "Epoch 27/100\n",
      "1033/1033 [==============================] - 2s 2ms/step - loss: 0.5205\n",
      "Epoch 28/100\n",
      "1033/1033 [==============================] - 2s 2ms/step - loss: 0.5219\n",
      "Epoch 29/100\n",
      "1033/1033 [==============================] - 2s 2ms/step - loss: 0.5233\n",
      "Epoch 30/100\n",
      "1033/1033 [==============================] - 2s 2ms/step - loss: 0.5247\n",
      "Epoch 31/100\n",
      "1033/1033 [==============================] - 2s 2ms/step - loss: 0.5261\n",
      "Epoch 32/100\n",
      "1033/1033 [==============================] - 2s 2ms/step - loss: 0.5276\n",
      "Epoch 33/100\n",
      "1033/1033 [==============================] - 2s 2ms/step - loss: 0.5290\n",
      "Epoch 34/100\n",
      "1033/1033 [==============================] - 2s 2ms/step - loss: 0.5305\n",
      "Epoch 35/100\n",
      "1033/1033 [==============================] - 2s 2ms/step - loss: 0.5321\n",
      "Epoch 36/100\n",
      "1033/1033 [==============================] - 2s 2ms/step - loss: 0.5336\n",
      "Epoch 37/100\n",
      "1033/1033 [==============================] - 2s 2ms/step - loss: 0.5351\n",
      "Epoch 38/100\n",
      "1033/1033 [==============================] - 2s 2ms/step - loss: 0.5367\n",
      "Epoch 39/100\n",
      "1033/1033 [==============================] - 2s 2ms/step - loss: 0.5383\n",
      "Epoch 40/100\n",
      "1033/1033 [==============================] - 2s 2ms/step - loss: 0.5399\n",
      "Epoch 41/100\n",
      "1033/1033 [==============================] - 2s 2ms/step - loss: 0.5415\n",
      "Epoch 42/100\n",
      "1033/1033 [==============================] - 2s 2ms/step - loss: 0.5432\n",
      "Epoch 43/100\n",
      "1033/1033 [==============================] - 2s 2ms/step - loss: 0.5448\n",
      "Epoch 44/100\n",
      "1033/1033 [==============================] - 2s 2ms/step - loss: 0.5465\n",
      "Epoch 45/100\n",
      "1033/1033 [==============================] - 2s 2ms/step - loss: 0.5482\n",
      "Epoch 46/100\n",
      "1033/1033 [==============================] - 2s 2ms/step - loss: 0.5499\n",
      "Epoch 47/100\n",
      "1033/1033 [==============================] - 2s 2ms/step - loss: 0.5515\n",
      "Epoch 48/100\n",
      "1033/1033 [==============================] - 2s 2ms/step - loss: 0.5532\n",
      "Epoch 49/100\n",
      "1033/1033 [==============================] - 2s 2ms/step - loss: 0.5549\n",
      "Epoch 50/100\n",
      "1033/1033 [==============================] - 2s 2ms/step - loss: 0.5566\n",
      "Epoch 51/100\n",
      "1033/1033 [==============================] - 2s 2ms/step - loss: 0.5582\n",
      "Epoch 52/100\n",
      "1033/1033 [==============================] - 2s 2ms/step - loss: 0.5599\n",
      "Epoch 53/100\n",
      "1033/1033 [==============================] - 2s 2ms/step - loss: 0.5616\n",
      "Epoch 54/100\n",
      "1033/1033 [==============================] - 2s 2ms/step - loss: 0.5633\n",
      "Epoch 55/100\n",
      "1033/1033 [==============================] - 2s 2ms/step - loss: 0.5650\n",
      "Epoch 56/100\n",
      "1033/1033 [==============================] - 2s 2ms/step - loss: 0.5669\n",
      "Epoch 57/100\n",
      "1033/1033 [==============================] - 2s 2ms/step - loss: 0.5688\n",
      "Epoch 58/100\n",
      "1033/1033 [==============================] - 2s 2ms/step - loss: 0.5706\n",
      "Epoch 59/100\n",
      "1033/1033 [==============================] - 2s 2ms/step - loss: 0.5725\n",
      "Epoch 60/100\n",
      "1033/1033 [==============================] - 2s 2ms/step - loss: 0.5745\n",
      "Epoch 61/100\n",
      "1033/1033 [==============================] - 2s 2ms/step - loss: 0.5765\n",
      "Epoch 62/100\n",
      "1033/1033 [==============================] - 2s 2ms/step - loss: 0.5786\n",
      "Epoch 63/100\n",
      "1033/1033 [==============================] - 2s 2ms/step - loss: 0.5809\n",
      "Epoch 64/100\n",
      "1033/1033 [==============================] - 2s 2ms/step - loss: 0.5833\n",
      "Epoch 65/100\n",
      "1033/1033 [==============================] - 2s 2ms/step - loss: 0.5858\n",
      "Epoch 66/100\n",
      "1033/1033 [==============================] - 2s 2ms/step - loss: 0.5883\n",
      "Epoch 67/100\n",
      "1033/1033 [==============================] - 2s 2ms/step - loss: 0.5908\n",
      "Epoch 68/100\n",
      "1033/1033 [==============================] - 2s 2ms/step - loss: 0.5933\n",
      "Epoch 69/100\n",
      "1033/1033 [==============================] - 2s 2ms/step - loss: 0.5958\n",
      "Epoch 70/100\n",
      "1033/1033 [==============================] - 2s 2ms/step - loss: 0.5983\n",
      "Epoch 71/100\n",
      "1033/1033 [==============================] - 2s 2ms/step - loss: 0.6007\n",
      "Epoch 72/100\n",
      "1033/1033 [==============================] - 2s 2ms/step - loss: 0.6032\n",
      "Epoch 73/100\n",
      "1033/1033 [==============================] - 2s 2ms/step - loss: 0.6058\n",
      "Epoch 74/100\n",
      "1033/1033 [==============================] - 2s 2ms/step - loss: 0.6084\n",
      "Epoch 75/100\n",
      "1033/1033 [==============================] - 2s 2ms/step - loss: 0.6109\n",
      "Epoch 76/100\n",
      "1033/1033 [==============================] - 2s 2ms/step - loss: 0.6133\n",
      "Epoch 77/100\n",
      "1033/1033 [==============================] - 2s 2ms/step - loss: 0.6158\n",
      "Epoch 78/100\n",
      "1033/1033 [==============================] - 2s 2ms/step - loss: 0.6181\n",
      "Epoch 79/100\n",
      "1033/1033 [==============================] - 2s 2ms/step - loss: 0.6204\n",
      "Epoch 80/100\n",
      "1033/1033 [==============================] - 2s 2ms/step - loss: 0.6227\n",
      "Epoch 81/100\n",
      "1033/1033 [==============================] - 2s 2ms/step - loss: 0.6250\n",
      "Epoch 82/100\n",
      "1033/1033 [==============================] - 2s 2ms/step - loss: 0.6272\n",
      "Epoch 83/100\n",
      "1033/1033 [==============================] - 2s 2ms/step - loss: 0.6295\n",
      "Epoch 84/100\n",
      "1033/1033 [==============================] - 2s 2ms/step - loss: 0.6317\n",
      "Epoch 85/100\n",
      "1033/1033 [==============================] - 2s 2ms/step - loss: 0.6340\n",
      "Epoch 86/100\n",
      "1033/1033 [==============================] - 2s 2ms/step - loss: 0.6364\n",
      "Epoch 87/100\n",
      "1033/1033 [==============================] - 2s 2ms/step - loss: 0.6388\n",
      "Epoch 88/100\n",
      "1033/1033 [==============================] - 2s 2ms/step - loss: 0.6412\n",
      "Epoch 89/100\n",
      "1033/1033 [==============================] - 2s 2ms/step - loss: 0.6434\n",
      "Epoch 90/100\n",
      "1033/1033 [==============================] - 2s 2ms/step - loss: 0.6456\n",
      "Epoch 91/100\n",
      "1033/1033 [==============================] - 2s 2ms/step - loss: 0.6477\n",
      "Epoch 92/100\n",
      "1033/1033 [==============================] - 2s 2ms/step - loss: 0.6496\n",
      "Epoch 93/100\n",
      "1033/1033 [==============================] - 2s 2ms/step - loss: 0.6512\n",
      "Epoch 94/100\n",
      "1033/1033 [==============================] - 2s 2ms/step - loss: 0.6527\n",
      "Epoch 95/100\n",
      "1033/1033 [==============================] - 2s 2ms/step - loss: 0.6540\n",
      "Epoch 96/100\n",
      "1033/1033 [==============================] - 2s 2ms/step - loss: 0.6550\n",
      "Epoch 97/100\n"
     ]
    },
    {
     "name": "stdout",
     "output_type": "stream",
     "text": [
      "1033/1033 [==============================] - 2s 2ms/step - loss: 0.6559\n",
      "Epoch 98/100\n",
      "1033/1033 [==============================] - 2s 2ms/step - loss: 0.6567\n",
      "Epoch 99/100\n",
      "1033/1033 [==============================] - 2s 2ms/step - loss: 0.6574\n",
      "Epoch 100/100\n",
      "1033/1033 [==============================] - 2s 2ms/step - loss: 0.6581\n"
     ]
    }
   ],
   "source": [
    "history = lstm.fit(X_train, y_train, epochs=100, batch_size=8, verbose=1, shuffle=False)"
   ]
  },
  {
   "cell_type": "markdown",
   "id": "8075cff6",
   "metadata": {},
   "source": [
    "# Step 11 – LSTM Prediction"
   ]
  },
  {
   "cell_type": "code",
   "execution_count": 57,
   "id": "60d9be07",
   "metadata": {},
   "outputs": [],
   "source": [
    "#LSTM Prediction\n",
    "\n",
    "y_pred= lstm.predict(X_test)"
   ]
  },
  {
   "cell_type": "markdown",
   "id": "92958a77",
   "metadata": {},
   "source": [
    "# Step 12 – Actual vs Predicted Adj Close Value – LSTM"
   ]
  },
  {
   "cell_type": "code",
   "execution_count": 58,
   "id": "4b42f529",
   "metadata": {},
   "outputs": [
    {
     "data": {
      "image/png": "[encoded data removed]",
      "text/plain": [
       "<Figure size 432x288 with 1 Axes>"
      ]
     },
     "metadata": {
      "needs_background": "light"
     },
     "output_type": "display_data"
    }
   ],
   "source": [
    "#True vs Predicted Adj Close Value – LSTM\n",
    "plt.plot(y_test, label='actual Value')\n",
    "plt.plot(y_pred, label='predicted Value')\n",
    "plt.title('Prediction by LSTM')\n",
    "plt.xlabel('Time Scale')\n",
    "plt.ylabel('Scaled USD')\n",
    "plt.legend()\n",
    "plt.show()"
   ]
  },
  {
   "cell_type": "code",
   "execution_count": null,
   "id": "b2ef3026",
   "metadata": {},
   "outputs": [],
   "source": []
  }
 ],
 "metadata": {
  "kernelspec": {
   "display_name": "Python 3 (ipykernel)",
   "language": "python",
   "name": "python3"
  },
  "language_info": {
   "codemirror_mode": {
    "name": "ipython",
    "version": 3
   },
   "file_extension": ".py",
   "mimetype": "text/x-python",
   "name": "python",
   "nbconvert_exporter": "python",
   "pygments_lexer": "ipython3",
   "version": "3.10.0"
  }
 },
 "nbformat": 4,
 "nbformat_minor": 5
}
